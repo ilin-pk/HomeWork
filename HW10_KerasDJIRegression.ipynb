{
 "cells": [
  {
   "cell_type": "markdown",
   "metadata": {},
   "source": [
    "# Dow Jones Industrial Average"
   ]
  },
  {
   "cell_type": "markdown",
   "metadata": {},
   "source": [
    "# Промышленный индекс Доу — Джонса"
   ]
  },
  {
   "cell_type": "markdown",
   "metadata": {},
   "source": [
    "### Данные"
   ]
  },
  {
   "cell_type": "markdown",
   "metadata": {},
   "source": [
    "https://in.finance.yahoo.com/quote/%5EDJI/history?p=%5EDJI"
   ]
  },
  {
   "cell_type": "markdown",
   "metadata": {},
   "source": [
    "### Описание"
   ]
  },
  {
   "cell_type": "markdown",
   "metadata": {},
   "source": [
    "https://ru.wikipedia.org/wiki/%D0%9F%D1%80%D0%BE%D0%BC%D1%8B%D1%88%D0%BB%D0%B5%D0%BD%D0%BD%D1%8B%D0%B9_%D0%B8%D0%BD%D0%B4%D0%B5%D0%BA%D1%81_%D0%94%D0%BE%D1%83_%E2%80%94_%D0%94%D0%B6%D0%BE%D0%BD%D1%81%D0%B0"
   ]
  },
  {
   "cell_type": "code",
   "execution_count": 18,
   "metadata": {},
   "outputs": [],
   "source": [
    "import numpy as np\n",
    "import pandas as pd\n",
    "import matplotlib.pyplot as plt\n",
    "%matplotlib inline\n",
    "plt.rcParams.update({'font.size': 22})\n",
    "\n",
    "import keras\n",
    "from keras.models import Sequential\n",
    "from keras.layers import Dense\n",
    "from keras.callbacks import EarlyStopping, ModelCheckpoint, History\n",
    "\n",
    "from sklearn.model_selection import train_test_split\n",
    "from sklearn.preprocessing import MinMaxScaler\n",
    "from sklearn.metrics import mean_absolute_error"
   ]
  },
  {
   "cell_type": "code",
   "execution_count": 2,
   "metadata": {},
   "outputs": [],
   "source": [
    "sample_df = pd.read_csv('./data/DJI_ds.tsv')"
   ]
  },
  {
   "cell_type": "code",
   "execution_count": 3,
   "metadata": {
    "scrolled": true
   },
   "outputs": [
    {
     "data": {
      "text/html": [
       "<div>\n",
       "<style scoped>\n",
       "    .dataframe tbody tr th:only-of-type {\n",
       "        vertical-align: middle;\n",
       "    }\n",
       "\n",
       "    .dataframe tbody tr th {\n",
       "        vertical-align: top;\n",
       "    }\n",
       "\n",
       "    .dataframe thead th {\n",
       "        text-align: right;\n",
       "    }\n",
       "</style>\n",
       "<table border=\"1\" class=\"dataframe\">\n",
       "  <thead>\n",
       "    <tr style=\"text-align: right;\">\n",
       "      <th></th>\n",
       "      <th>Date</th>\n",
       "      <th>Open</th>\n",
       "      <th>High</th>\n",
       "      <th>Low</th>\n",
       "      <th>Close</th>\n",
       "      <th>Adj Close</th>\n",
       "      <th>Volume</th>\n",
       "    </tr>\n",
       "  </thead>\n",
       "  <tbody>\n",
       "    <tr>\n",
       "      <th>0</th>\n",
       "      <td>1985-01-29</td>\n",
       "      <td>1277.719971</td>\n",
       "      <td>1295.489990</td>\n",
       "      <td>1266.890015</td>\n",
       "      <td>1292.619995</td>\n",
       "      <td>1292.619995</td>\n",
       "      <td>13560000</td>\n",
       "    </tr>\n",
       "    <tr>\n",
       "      <th>1</th>\n",
       "      <td>1985-01-30</td>\n",
       "      <td>1297.369995</td>\n",
       "      <td>1305.099976</td>\n",
       "      <td>1278.930054</td>\n",
       "      <td>1287.880005</td>\n",
       "      <td>1287.880005</td>\n",
       "      <td>16820000</td>\n",
       "    </tr>\n",
       "    <tr>\n",
       "      <th>2</th>\n",
       "      <td>1985-01-31</td>\n",
       "      <td>1283.239990</td>\n",
       "      <td>1293.400024</td>\n",
       "      <td>1272.640015</td>\n",
       "      <td>1286.770020</td>\n",
       "      <td>1286.770020</td>\n",
       "      <td>14070000</td>\n",
       "    </tr>\n",
       "    <tr>\n",
       "      <th>3</th>\n",
       "      <td>1985-02-01</td>\n",
       "      <td>1276.939941</td>\n",
       "      <td>1286.109985</td>\n",
       "      <td>1269.770020</td>\n",
       "      <td>1277.719971</td>\n",
       "      <td>1277.719971</td>\n",
       "      <td>10980000</td>\n",
       "    </tr>\n",
       "    <tr>\n",
       "      <th>4</th>\n",
       "      <td>1985-02-04</td>\n",
       "      <td>1272.079956</td>\n",
       "      <td>1294.939941</td>\n",
       "      <td>1268.989990</td>\n",
       "      <td>1290.079956</td>\n",
       "      <td>1290.079956</td>\n",
       "      <td>11630000</td>\n",
       "    </tr>\n",
       "  </tbody>\n",
       "</table>\n",
       "</div>"
      ],
      "text/plain": [
       "         Date         Open         High          Low        Close  \\\n",
       "0  1985-01-29  1277.719971  1295.489990  1266.890015  1292.619995   \n",
       "1  1985-01-30  1297.369995  1305.099976  1278.930054  1287.880005   \n",
       "2  1985-01-31  1283.239990  1293.400024  1272.640015  1286.770020   \n",
       "3  1985-02-01  1276.939941  1286.109985  1269.770020  1277.719971   \n",
       "4  1985-02-04  1272.079956  1294.939941  1268.989990  1290.079956   \n",
       "\n",
       "     Adj Close    Volume  \n",
       "0  1292.619995  13560000  \n",
       "1  1287.880005  16820000  \n",
       "2  1286.770020  14070000  \n",
       "3  1277.719971  10980000  \n",
       "4  1290.079956  11630000  "
      ]
     },
     "execution_count": 3,
     "metadata": {},
     "output_type": "execute_result"
    }
   ],
   "source": [
    "sample_df.head()"
   ]
  },
  {
   "cell_type": "markdown",
   "metadata": {},
   "source": [
    "### Взглянем на статистики"
   ]
  },
  {
   "cell_type": "code",
   "execution_count": 4,
   "metadata": {},
   "outputs": [
    {
     "data": {
      "text/html": [
       "<div>\n",
       "<style scoped>\n",
       "    .dataframe tbody tr th:only-of-type {\n",
       "        vertical-align: middle;\n",
       "    }\n",
       "\n",
       "    .dataframe tbody tr th {\n",
       "        vertical-align: top;\n",
       "    }\n",
       "\n",
       "    .dataframe thead th {\n",
       "        text-align: right;\n",
       "    }\n",
       "</style>\n",
       "<table border=\"1\" class=\"dataframe\">\n",
       "  <thead>\n",
       "    <tr style=\"text-align: right;\">\n",
       "      <th></th>\n",
       "      <th>Open</th>\n",
       "      <th>High</th>\n",
       "      <th>Low</th>\n",
       "      <th>Close</th>\n",
       "      <th>Adj Close</th>\n",
       "      <th>Volume</th>\n",
       "    </tr>\n",
       "  </thead>\n",
       "  <tbody>\n",
       "    <tr>\n",
       "      <th>count</th>\n",
       "      <td>8518.000000</td>\n",
       "      <td>8518.000000</td>\n",
       "      <td>8518.000000</td>\n",
       "      <td>8518.000000</td>\n",
       "      <td>8518.000000</td>\n",
       "      <td>8.518000e+03</td>\n",
       "    </tr>\n",
       "    <tr>\n",
       "      <th>mean</th>\n",
       "      <td>9280.711688</td>\n",
       "      <td>9337.482947</td>\n",
       "      <td>9222.596622</td>\n",
       "      <td>9283.362836</td>\n",
       "      <td>9283.362836</td>\n",
       "      <td>1.340533e+08</td>\n",
       "    </tr>\n",
       "    <tr>\n",
       "      <th>std</th>\n",
       "      <td>5848.969803</td>\n",
       "      <td>5872.617021</td>\n",
       "      <td>5824.201174</td>\n",
       "      <td>5849.593378</td>\n",
       "      <td>5849.593378</td>\n",
       "      <td>1.176961e+08</td>\n",
       "    </tr>\n",
       "    <tr>\n",
       "      <th>min</th>\n",
       "      <td>1243.709961</td>\n",
       "      <td>1251.209961</td>\n",
       "      <td>1235.530029</td>\n",
       "      <td>1242.050049</td>\n",
       "      <td>1242.050049</td>\n",
       "      <td>2.530000e+06</td>\n",
       "    </tr>\n",
       "    <tr>\n",
       "      <th>25%</th>\n",
       "      <td>3527.624939</td>\n",
       "      <td>3542.145081</td>\n",
       "      <td>3511.837524</td>\n",
       "      <td>3527.644959</td>\n",
       "      <td>3527.644959</td>\n",
       "      <td>2.583250e+07</td>\n",
       "    </tr>\n",
       "    <tr>\n",
       "      <th>50%</th>\n",
       "      <td>9785.145019</td>\n",
       "      <td>9857.379883</td>\n",
       "      <td>9725.279785</td>\n",
       "      <td>9785.754883</td>\n",
       "      <td>9785.754883</td>\n",
       "      <td>9.940500e+07</td>\n",
       "    </tr>\n",
       "    <tr>\n",
       "      <th>75%</th>\n",
       "      <td>12286.072754</td>\n",
       "      <td>12355.070313</td>\n",
       "      <td>12220.840332</td>\n",
       "      <td>12287.834717</td>\n",
       "      <td>12287.834717</td>\n",
       "      <td>2.208250e+08</td>\n",
       "    </tr>\n",
       "    <tr>\n",
       "      <th>max</th>\n",
       "      <td>26833.470703</td>\n",
       "      <td>26951.810547</td>\n",
       "      <td>26789.080078</td>\n",
       "      <td>26828.390625</td>\n",
       "      <td>26828.390625</td>\n",
       "      <td>8.239400e+08</td>\n",
       "    </tr>\n",
       "  </tbody>\n",
       "</table>\n",
       "</div>"
      ],
      "text/plain": [
       "               Open          High           Low         Close     Adj Close  \\\n",
       "count   8518.000000   8518.000000   8518.000000   8518.000000   8518.000000   \n",
       "mean    9280.711688   9337.482947   9222.596622   9283.362836   9283.362836   \n",
       "std     5848.969803   5872.617021   5824.201174   5849.593378   5849.593378   \n",
       "min     1243.709961   1251.209961   1235.530029   1242.050049   1242.050049   \n",
       "25%     3527.624939   3542.145081   3511.837524   3527.644959   3527.644959   \n",
       "50%     9785.145019   9857.379883   9725.279785   9785.754883   9785.754883   \n",
       "75%    12286.072754  12355.070313  12220.840332  12287.834717  12287.834717   \n",
       "max    26833.470703  26951.810547  26789.080078  26828.390625  26828.390625   \n",
       "\n",
       "             Volume  \n",
       "count  8.518000e+03  \n",
       "mean   1.340533e+08  \n",
       "std    1.176961e+08  \n",
       "min    2.530000e+06  \n",
       "25%    2.583250e+07  \n",
       "50%    9.940500e+07  \n",
       "75%    2.208250e+08  \n",
       "max    8.239400e+08  "
      ]
     },
     "execution_count": 4,
     "metadata": {},
     "output_type": "execute_result"
    }
   ],
   "source": [
    "sample_df.describe()"
   ]
  },
  {
   "cell_type": "code",
   "execution_count": 5,
   "metadata": {},
   "outputs": [],
   "source": [
    "sample_df = sample_df.drop(['Date'],axis=1) #дропнем дату\n",
    "sample_df = sample_df.dropna(inplace = False)  # вырежем все строки с NaN\n",
    "sample_df = sample_df.drop(['Adj Close','Volume'],axis=1) # дропнем 'Adj close' и 'Volume'"
   ]
  },
  {
   "cell_type": "code",
   "execution_count": 6,
   "metadata": {},
   "outputs": [
    {
     "data": {
      "text/html": [
       "<div>\n",
       "<style scoped>\n",
       "    .dataframe tbody tr th:only-of-type {\n",
       "        vertical-align: middle;\n",
       "    }\n",
       "\n",
       "    .dataframe tbody tr th {\n",
       "        vertical-align: top;\n",
       "    }\n",
       "\n",
       "    .dataframe thead th {\n",
       "        text-align: right;\n",
       "    }\n",
       "</style>\n",
       "<table border=\"1\" class=\"dataframe\">\n",
       "  <thead>\n",
       "    <tr style=\"text-align: right;\">\n",
       "      <th></th>\n",
       "      <th>Open</th>\n",
       "      <th>High</th>\n",
       "      <th>Low</th>\n",
       "      <th>Close</th>\n",
       "    </tr>\n",
       "  </thead>\n",
       "  <tbody>\n",
       "    <tr>\n",
       "      <th>0</th>\n",
       "      <td>1277.719971</td>\n",
       "      <td>1295.489990</td>\n",
       "      <td>1266.890015</td>\n",
       "      <td>1292.619995</td>\n",
       "    </tr>\n",
       "    <tr>\n",
       "      <th>1</th>\n",
       "      <td>1297.369995</td>\n",
       "      <td>1305.099976</td>\n",
       "      <td>1278.930054</td>\n",
       "      <td>1287.880005</td>\n",
       "    </tr>\n",
       "    <tr>\n",
       "      <th>2</th>\n",
       "      <td>1283.239990</td>\n",
       "      <td>1293.400024</td>\n",
       "      <td>1272.640015</td>\n",
       "      <td>1286.770020</td>\n",
       "    </tr>\n",
       "    <tr>\n",
       "      <th>3</th>\n",
       "      <td>1276.939941</td>\n",
       "      <td>1286.109985</td>\n",
       "      <td>1269.770020</td>\n",
       "      <td>1277.719971</td>\n",
       "    </tr>\n",
       "    <tr>\n",
       "      <th>4</th>\n",
       "      <td>1272.079956</td>\n",
       "      <td>1294.939941</td>\n",
       "      <td>1268.989990</td>\n",
       "      <td>1290.079956</td>\n",
       "    </tr>\n",
       "  </tbody>\n",
       "</table>\n",
       "</div>"
      ],
      "text/plain": [
       "          Open         High          Low        Close\n",
       "0  1277.719971  1295.489990  1266.890015  1292.619995\n",
       "1  1297.369995  1305.099976  1278.930054  1287.880005\n",
       "2  1283.239990  1293.400024  1272.640015  1286.770020\n",
       "3  1276.939941  1286.109985  1269.770020  1277.719971\n",
       "4  1272.079956  1294.939941  1268.989990  1290.079956"
      ]
     },
     "execution_count": 6,
     "metadata": {},
     "output_type": "execute_result"
    }
   ],
   "source": [
    "sample_df.head()"
   ]
  },
  {
   "cell_type": "markdown",
   "metadata": {},
   "source": [
    "### Делим на train / test"
   ]
  },
  {
   "cell_type": "code",
   "execution_count": 7,
   "metadata": {},
   "outputs": [
    {
     "name": "stdout",
     "output_type": "stream",
     "text": [
      "Размер train: 5000\n",
      "Размер test: 3518\n"
     ]
    }
   ],
   "source": [
    "df_train = sample_df[:5000]    \n",
    "df_test = sample_df[5000:]\n",
    "print(\"Размер train:\", df_train.shape[0])\n",
    "print(\"Размер test:\", df_test.shape[0])"
   ]
  },
  {
   "cell_type": "markdown",
   "metadata": {},
   "source": [
    "### Нормализуем данные"
   ]
  },
  {
   "cell_type": "code",
   "execution_count": 8,
   "metadata": {},
   "outputs": [],
   "source": [
    "scaler = MinMaxScaler()"
   ]
  },
  {
   "cell_type": "code",
   "execution_count": 9,
   "metadata": {},
   "outputs": [],
   "source": [
    "X_train = scaler.fit_transform(df_train.drop(['Close'],axis=1).values)\n",
    "y_train = scaler.fit_transform(df_train['Close'].values.reshape(-1,1))"
   ]
  },
  {
   "cell_type": "code",
   "execution_count": 10,
   "metadata": {},
   "outputs": [],
   "source": [
    "X_test = scaler.fit_transform(df_test.drop(['Close'],axis=1).values)\n",
    "y_test = scaler.fit_transform(df_test['Close'].values.reshape(-1,1))"
   ]
  },
  {
   "cell_type": "markdown",
   "metadata": {},
   "source": [
    "# [1] Создать модель для решения задачи регрессии"
   ]
  },
  {
   "cell_type": "code",
   "execution_count": 15,
   "metadata": {},
   "outputs": [],
   "source": [
    "my_model = Sequential()\n",
    "\n",
    "my_model.add(Dense(3, input_dim=3, kernel_initializer='normal', activation='linear'))\n",
    "my_model.add(Dense(100, input_dim=3, kernel_initializer='normal', activation='sigmoid'))\n",
    "my_model.add(Dense(100, input_dim=100, kernel_initializer='normal', activation='sigmoid'))\n",
    "my_model.add(Dense(1, activation='linear', kernel_initializer='normal'))\n",
    "# Компилируем модель\n",
    "my_model.compile(loss='mean_squared_error', optimizer='adam')"
   ]
  },
  {
   "cell_type": "code",
   "execution_count": 16,
   "metadata": {
    "scrolled": true
   },
   "outputs": [
    {
     "name": "stdout",
     "output_type": "stream",
     "text": [
      "Train on 5000 samples, validate on 3518 samples\n",
      "Epoch 1/100\n",
      "5000/5000 [==============================] - 0s 65us/step - loss: 0.1146 - val_loss: 0.0489\n",
      "Epoch 2/100\n",
      "5000/5000 [==============================] - 0s 25us/step - loss: 0.1036 - val_loss: 0.0516\n",
      "Epoch 3/100\n",
      "5000/5000 [==============================] - 0s 25us/step - loss: 0.1032 - val_loss: 0.0508\n",
      "Epoch 4/100\n",
      "5000/5000 [==============================] - 0s 24us/step - loss: 0.1013 - val_loss: 0.0476\n",
      "Epoch 5/100\n",
      "5000/5000 [==============================] - 0s 27us/step - loss: 0.0983 - val_loss: 0.0452\n",
      "Epoch 6/100\n",
      "5000/5000 [==============================] - 0s 28us/step - loss: 0.0925 - val_loss: 0.0417\n",
      "Epoch 7/100\n",
      "5000/5000 [==============================] - 0s 27us/step - loss: 0.0802 - val_loss: 0.0331\n",
      "Epoch 8/100\n",
      "5000/5000 [==============================] - 0s 25us/step - loss: 0.0572 - val_loss: 0.0204\n",
      "Epoch 9/100\n",
      "5000/5000 [==============================] - 0s 25us/step - loss: 0.0250 - val_loss: 0.0044\n",
      "Epoch 10/100\n",
      "5000/5000 [==============================] - 0s 28us/step - loss: 0.0030 - val_loss: 1.0934e-04\n",
      "Epoch 11/100\n",
      "5000/5000 [==============================] - 0s 25us/step - loss: 3.0051e-04 - val_loss: 1.7702e-04\n",
      "Epoch 12/100\n",
      "5000/5000 [==============================] - 0s 28us/step - loss: 1.5679e-04 - val_loss: 1.1551e-04\n",
      "Epoch 13/100\n",
      "5000/5000 [==============================] - 0s 26us/step - loss: 1.2470e-04 - val_loss: 1.2736e-04\n",
      "Epoch 14/100\n",
      "5000/5000 [==============================] - 0s 27us/step - loss: 1.1772e-04 - val_loss: 1.1513e-04\n",
      "Epoch 15/100\n",
      "5000/5000 [==============================] - 0s 26us/step - loss: 1.1609e-04 - val_loss: 1.3059e-04\n",
      "Epoch 16/100\n",
      "5000/5000 [==============================] - 0s 25us/step - loss: 1.1514e-04 - val_loss: 1.1271e-04\n",
      "Epoch 17/100\n",
      "5000/5000 [==============================] - 0s 27us/step - loss: 1.1313e-04 - val_loss: 1.2402e-04\n",
      "Epoch 18/100\n",
      "5000/5000 [==============================] - 0s 27us/step - loss: 1.1156e-04 - val_loss: 1.0741e-04\n",
      "Epoch 19/100\n",
      "5000/5000 [==============================] - 0s 28us/step - loss: 1.1063e-04 - val_loss: 1.0881e-04\n",
      "Epoch 20/100\n",
      "5000/5000 [==============================] - 0s 27us/step - loss: 1.0904e-04 - val_loss: 1.1475e-04\n",
      "Epoch 21/100\n",
      "5000/5000 [==============================] - 0s 26us/step - loss: 1.0766e-04 - val_loss: 1.1040e-04\n",
      "Epoch 22/100\n",
      "5000/5000 [==============================] - 0s 28us/step - loss: 1.0719e-04 - val_loss: 9.9298e-05\n",
      "Epoch 23/100\n",
      "5000/5000 [==============================] - 0s 26us/step - loss: 1.0752e-04 - val_loss: 1.2642e-04\n",
      "Epoch 24/100\n",
      "5000/5000 [==============================] - 0s 26us/step - loss: 1.0454e-04 - val_loss: 9.6717e-05\n",
      "Epoch 25/100\n",
      "5000/5000 [==============================] - 0s 28us/step - loss: 1.0151e-04 - val_loss: 1.2730e-04\n",
      "Epoch 26/100\n",
      "5000/5000 [==============================] - 0s 26us/step - loss: 1.0037e-04 - val_loss: 1.1592e-04\n",
      "Epoch 27/100\n",
      "5000/5000 [==============================] - 0s 27us/step - loss: 9.9175e-05 - val_loss: 9.0713e-05\n",
      "Epoch 28/100\n",
      "5000/5000 [==============================] - 0s 28us/step - loss: 9.7567e-05 - val_loss: 1.0039e-04\n",
      "Epoch 29/100\n",
      "5000/5000 [==============================] - 0s 26us/step - loss: 9.5470e-05 - val_loss: 1.0589e-04\n",
      "Epoch 30/100\n",
      "5000/5000 [==============================] - 0s 28us/step - loss: 9.4446e-05 - val_loss: 1.0326e-04\n",
      "Epoch 31/100\n",
      "5000/5000 [==============================] - 0s 27us/step - loss: 9.2759e-05 - val_loss: 9.6047e-05\n",
      "Epoch 32/100\n",
      "5000/5000 [==============================] - 0s 27us/step - loss: 9.1330e-05 - val_loss: 9.7790e-05\n",
      "Epoch 33/100\n",
      "5000/5000 [==============================] - 0s 27us/step - loss: 9.4868e-05 - val_loss: 9.3675e-05\n",
      "Epoch 34/100\n",
      "5000/5000 [==============================] - 0s 27us/step - loss: 9.1555e-05 - val_loss: 9.6746e-05\n",
      "Epoch 35/100\n",
      "5000/5000 [==============================] - 0s 26us/step - loss: 8.8805e-05 - val_loss: 1.2705e-04\n",
      "Epoch 36/100\n",
      "5000/5000 [==============================] - 0s 25us/step - loss: 8.9486e-05 - val_loss: 9.9650e-05\n",
      "Epoch 37/100\n",
      "5000/5000 [==============================] - 0s 27us/step - loss: 8.7280e-05 - val_loss: 8.1826e-05\n",
      "Epoch 38/100\n",
      "5000/5000 [==============================] - 0s 27us/step - loss: 8.3414e-05 - val_loss: 8.2612e-05\n",
      "Epoch 39/100\n",
      "5000/5000 [==============================] - 0s 26us/step - loss: 8.2693e-05 - val_loss: 8.1420e-05\n",
      "Epoch 40/100\n",
      "5000/5000 [==============================] - 0s 26us/step - loss: 8.2701e-05 - val_loss: 7.4395e-05\n",
      "Epoch 41/100\n",
      "5000/5000 [==============================] - 0s 27us/step - loss: 8.1282e-05 - val_loss: 7.9287e-05\n",
      "Epoch 42/100\n",
      "5000/5000 [==============================] - 0s 26us/step - loss: 7.8784e-05 - val_loss: 7.7335e-05\n",
      "Epoch 43/100\n",
      "5000/5000 [==============================] - 0s 27us/step - loss: 8.0176e-05 - val_loss: 1.1743e-04\n",
      "Epoch 44/100\n",
      "5000/5000 [==============================] - 0s 27us/step - loss: 8.0642e-05 - val_loss: 6.9226e-05\n",
      "Epoch 45/100\n",
      "5000/5000 [==============================] - 0s 26us/step - loss: 7.5980e-05 - val_loss: 8.0774e-05\n",
      "Epoch 46/100\n",
      "5000/5000 [==============================] - 0s 29us/step - loss: 7.4684e-05 - val_loss: 7.4335e-05\n",
      "Epoch 47/100\n",
      "5000/5000 [==============================] - 0s 26us/step - loss: 7.3470e-05 - val_loss: 7.3293e-05\n",
      "Epoch 48/100\n",
      "5000/5000 [==============================] - 0s 26us/step - loss: 7.2091e-05 - val_loss: 8.2413e-05\n",
      "Epoch 49/100\n",
      "5000/5000 [==============================] - 0s 26us/step - loss: 7.1718e-05 - val_loss: 6.7018e-05\n",
      "Epoch 50/100\n",
      "5000/5000 [==============================] - 0s 25us/step - loss: 6.9013e-05 - val_loss: 7.0269e-05\n",
      "Epoch 51/100\n",
      "5000/5000 [==============================] - 0s 34us/step - loss: 6.8258e-05 - val_loss: 6.5203e-05\n",
      "Epoch 52/100\n",
      "5000/5000 [==============================] - 0s 27us/step - loss: 6.7704e-05 - val_loss: 6.6030e-05\n",
      "Epoch 53/100\n",
      "5000/5000 [==============================] - 0s 26us/step - loss: 6.7988e-05 - val_loss: 6.1337e-05\n",
      "Epoch 54/100\n",
      "5000/5000 [==============================] - 0s 27us/step - loss: 6.6046e-05 - val_loss: 6.8957e-05\n",
      "Epoch 55/100\n",
      "5000/5000 [==============================] - 0s 27us/step - loss: 6.5063e-05 - val_loss: 6.1304e-05\n",
      "Epoch 56/100\n",
      "5000/5000 [==============================] - 0s 26us/step - loss: 6.4623e-05 - val_loss: 6.1584e-05\n",
      "Epoch 57/100\n",
      "5000/5000 [==============================] - 0s 27us/step - loss: 6.3365e-05 - val_loss: 5.7403e-05\n",
      "Epoch 58/100\n",
      "5000/5000 [==============================] - 0s 27us/step - loss: 6.2587e-05 - val_loss: 6.1301e-05\n",
      "Epoch 59/100\n",
      "5000/5000 [==============================] - 0s 25us/step - loss: 6.2913e-05 - val_loss: 6.1850e-05\n",
      "Epoch 60/100\n",
      "5000/5000 [==============================] - 0s 27us/step - loss: 6.0879e-05 - val_loss: 6.0677e-05\n",
      "Epoch 61/100\n",
      "5000/5000 [==============================] - 0s 25us/step - loss: 5.8604e-05 - val_loss: 5.7648e-05\n",
      "Epoch 62/100\n",
      "5000/5000 [==============================] - 0s 25us/step - loss: 6.0918e-05 - val_loss: 6.2866e-05\n",
      "Epoch 63/100\n",
      "5000/5000 [==============================] - 0s 27us/step - loss: 5.9300e-05 - val_loss: 5.5976e-05\n",
      "Epoch 64/100\n",
      "5000/5000 [==============================] - 0s 24us/step - loss: 5.7421e-05 - val_loss: 5.6640e-05\n",
      "Epoch 65/100\n",
      "5000/5000 [==============================] - 0s 28us/step - loss: 5.6088e-05 - val_loss: 5.6017e-05\n",
      "Epoch 66/100\n",
      "5000/5000 [==============================] - 0s 26us/step - loss: 5.8778e-05 - val_loss: 6.7852e-05\n",
      "Epoch 67/100\n",
      "5000/5000 [==============================] - 0s 27us/step - loss: 5.7099e-05 - val_loss: 5.7804e-05\n",
      "Epoch 68/100\n",
      "5000/5000 [==============================] - 0s 28us/step - loss: 5.4208e-05 - val_loss: 4.9710e-05\n",
      "Epoch 69/100\n",
      "5000/5000 [==============================] - 0s 25us/step - loss: 5.2561e-05 - val_loss: 5.1564e-05\n",
      "Epoch 70/100\n",
      "5000/5000 [==============================] - 0s 24us/step - loss: 5.2417e-05 - val_loss: 4.9829e-05\n",
      "Epoch 71/100\n",
      "5000/5000 [==============================] - 0s 27us/step - loss: 5.6658e-05 - val_loss: 7.1797e-05\n",
      "Epoch 72/100\n",
      "5000/5000 [==============================] - 0s 26us/step - loss: 5.3233e-05 - val_loss: 5.2757e-05\n",
      "Epoch 73/100\n",
      "5000/5000 [==============================] - 0s 25us/step - loss: 5.2200e-05 - val_loss: 4.9629e-05\n"
     ]
    },
    {
     "name": "stdout",
     "output_type": "stream",
     "text": [
      "Epoch 74/100\n",
      "5000/5000 [==============================] - 0s 26us/step - loss: 4.8811e-05 - val_loss: 4.8454e-05\n",
      "Epoch 75/100\n",
      "5000/5000 [==============================] - 0s 26us/step - loss: 4.9165e-05 - val_loss: 4.5448e-05\n",
      "Epoch 76/100\n",
      "5000/5000 [==============================] - 0s 26us/step - loss: 5.0293e-05 - val_loss: 4.4270e-05\n",
      "Epoch 77/100\n",
      "5000/5000 [==============================] - 0s 25us/step - loss: 4.7663e-05 - val_loss: 4.6010e-05\n",
      "Epoch 78/100\n",
      "5000/5000 [==============================] - 0s 25us/step - loss: 4.7970e-05 - val_loss: 4.4724e-05\n",
      "Epoch 79/100\n",
      "5000/5000 [==============================] - 0s 26us/step - loss: 4.9807e-05 - val_loss: 4.5075e-05\n",
      "Epoch 80/100\n",
      "5000/5000 [==============================] - 0s 25us/step - loss: 4.5513e-05 - val_loss: 4.4021e-05\n",
      "Epoch 81/100\n",
      "5000/5000 [==============================] - 0s 26us/step - loss: 4.5839e-05 - val_loss: 4.1649e-05\n",
      "Epoch 82/100\n",
      "5000/5000 [==============================] - 0s 25us/step - loss: 4.6333e-05 - val_loss: 4.1570e-05\n",
      "Epoch 83/100\n",
      "5000/5000 [==============================] - 0s 26us/step - loss: 5.0699e-05 - val_loss: 4.3377e-05\n",
      "Epoch 84/100\n",
      "5000/5000 [==============================] - 0s 28us/step - loss: 4.3420e-05 - val_loss: 4.0567e-05\n",
      "Epoch 85/100\n",
      "5000/5000 [==============================] - 0s 27us/step - loss: 4.4609e-05 - val_loss: 4.0560e-05\n",
      "Epoch 86/100\n",
      "5000/5000 [==============================] - 0s 29us/step - loss: 4.5674e-05 - val_loss: 5.0526e-05\n",
      "Epoch 87/100\n",
      "5000/5000 [==============================] - 0s 26us/step - loss: 4.3742e-05 - val_loss: 4.0276e-05\n",
      "Epoch 88/100\n",
      "5000/5000 [==============================] - 0s 26us/step - loss: 4.4752e-05 - val_loss: 3.8503e-05\n",
      "Epoch 89/100\n",
      "5000/5000 [==============================] - 0s 26us/step - loss: 4.2177e-05 - val_loss: 4.1626e-05\n",
      "Epoch 90/100\n",
      "5000/5000 [==============================] - 0s 26us/step - loss: 4.2558e-05 - val_loss: 4.3415e-05\n",
      "Epoch 91/100\n",
      "5000/5000 [==============================] - 0s 25us/step - loss: 4.4085e-05 - val_loss: 4.3187e-05\n",
      "Epoch 92/100\n",
      "5000/5000 [==============================] - 0s 26us/step - loss: 4.1499e-05 - val_loss: 3.9581e-05\n",
      "Epoch 93/100\n",
      "5000/5000 [==============================] - 0s 24us/step - loss: 4.0070e-05 - val_loss: 3.8717e-05\n",
      "Epoch 94/100\n",
      "5000/5000 [==============================] - 0s 26us/step - loss: 3.8673e-05 - val_loss: 3.5656e-05\n",
      "Epoch 95/100\n",
      "5000/5000 [==============================] - 0s 26us/step - loss: 3.8293e-05 - val_loss: 5.6149e-05\n",
      "Epoch 96/100\n",
      "5000/5000 [==============================] - 0s 25us/step - loss: 4.1832e-05 - val_loss: 3.9179e-05\n",
      "Epoch 97/100\n",
      "5000/5000 [==============================] - 0s 25us/step - loss: 3.8298e-05 - val_loss: 3.5452e-05\n",
      "Epoch 98/100\n",
      "5000/5000 [==============================] - 0s 28us/step - loss: 3.6509e-05 - val_loss: 3.5060e-05\n",
      "Epoch 99/100\n",
      "5000/5000 [==============================] - 0s 26us/step - loss: 3.7340e-05 - val_loss: 3.4089e-05\n",
      "Epoch 100/100\n",
      "5000/5000 [==============================] - 0s 26us/step - loss: 4.2685e-05 - val_loss: 3.6978e-05\n"
     ]
    },
    {
     "data": {
      "text/plain": [
       "<keras.callbacks.callbacks.History at 0x7fd57c306128>"
      ]
     },
     "execution_count": 16,
     "metadata": {},
     "output_type": "execute_result"
    }
   ],
   "source": [
    "history = History()\n",
    "\n",
    "my_model.fit(X_train, y_train, validation_data=(X_test,y_test), \n",
    "              batch_size=256, epochs=100, callbacks=[history], verbose=1)"
   ]
  },
  {
   "cell_type": "markdown",
   "metadata": {},
   "source": [
    "# [2] Визуализировать train - val loss"
   ]
  },
  {
   "cell_type": "code",
   "execution_count": 13,
   "metadata": {},
   "outputs": [],
   "source": [
    "def plot_loss(train_loss, val_loss):\n",
    "    plt.figure(figsize=(20,6))\n",
    "    plt.plot(train_loss, label='train_loss')\n",
    "    plt.plot(val_loss, label='val_loss')\n",
    "    plt.grid()\n",
    "    plt.legend()\n",
    "    plt.ylabel('Loss')\n",
    "    plt.xlabel('Epoch')\n",
    "    plt.show()"
   ]
  },
  {
   "cell_type": "code",
   "execution_count": 19,
   "metadata": {},
   "outputs": [
    {
     "data": {
      "image/png": "[encoded data removed]",
      "text/plain": [
       "<matplotlib.figure.Figure at 0x7fd59c75b160>"
      ]
     },
     "metadata": {
      "needs_background": "light"
     },
     "output_type": "display_data"
    }
   ],
   "source": [
    "plot_loss(history.history['loss'], history.history['val_loss'])"
   ]
  },
  {
   "cell_type": "markdown",
   "metadata": {},
   "source": [
    "# [3] Получить предсказание на test и визуализировать его"
   ]
  },
  {
   "cell_type": "markdown",
   "metadata": {},
   "source": [
    "Использовать функцию denormalize"
   ]
  },
  {
   "cell_type": "code",
   "execution_count": 20,
   "metadata": {},
   "outputs": [],
   "source": [
    "my_predict = my_model.predict(X_test).reshape(-1,1)"
   ]
  },
  {
   "cell_type": "code",
   "execution_count": 21,
   "metadata": {},
   "outputs": [],
   "source": [
    "def denormalize(df,norm_data):\n",
    "    values = df['Close'].values.reshape(-1,1)\n",
    "    scl = MinMaxScaler()\n",
    "    scl.fit(values)\n",
    "    new = scl.inverse_transform(norm_data)\n",
    "    return new"
   ]
  },
  {
   "cell_type": "code",
   "execution_count": 22,
   "metadata": {},
   "outputs": [],
   "source": [
    "my_predict = denormalize(df_test, my_predict)"
   ]
  },
  {
   "cell_type": "code",
   "execution_count": 23,
   "metadata": {},
   "outputs": [
    {
     "data": {
      "image/png": "[encoded data removed]",
      "text/plain": [
       "<matplotlib.figure.Figure at 0x7fd57c146358>"
      ]
     },
     "metadata": {
      "needs_background": "light"
     },
     "output_type": "display_data"
    }
   ],
   "source": [
    "size = 3518\n",
    "plt.figure(figsize=(20,12))\n",
    "plt.plot(np.linspace(1,size,size), my_predict.reshape(3518), 'r', label='prediction')\n",
    "plt.plot(np.linspace(1,size,size), df_test['Close'].values, 'b', label='real')\n",
    "plt.legend();"
   ]
  }
 ],
 "metadata": {
  "kernelspec": {
   "display_name": "Python 3",
   "language": "python",
   "name": "python3"
  },
  "language_info": {
   "codemirror_mode": {
    "name": "ipython",
    "version": 3
   },
   "file_extension": ".py",
   "mimetype": "text/x-python",
   "name": "python",
   "nbconvert_exporter": "python",
   "pygments_lexer": "ipython3",
   "version": "3.6.8"
  },
  "toc": {
   "base_numbering": 1,
   "nav_menu": {},
   "number_sections": false,
   "sideBar": true,
   "skip_h1_title": false,
   "title_cell": "Table of Contents",
   "title_sidebar": "Contents",
   "toc_cell": false,
   "toc_position": {},
   "toc_section_display": true,
   "toc_window_display": true
  }
 },
 "nbformat": 4,
 "nbformat_minor": 2
}
