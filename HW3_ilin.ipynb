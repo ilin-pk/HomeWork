{
 "cells": [
  {
   "cell_type": "code",
   "execution_count": 1,
   "metadata": {},
   "outputs": [],
   "source": [
    "import numpy as np\n",
    "import pandas as pd\n",
    "import folium\n",
    "import matplotlib as mpl\n",
    "import matplotlib.cm as cm"
   ]
  },
  {
   "cell_type": "code",
   "execution_count": 2,
   "metadata": {},
   "outputs": [
    {
     "name": "stdout",
     "output_type": "stream",
     "text": [
      "<class 'pandas.core.frame.DataFrame'>\n",
      "Int64Index: 42581 entries, 0 to 42580\n",
      "Data columns (total 5 columns):\n",
      "name      42581 non-null object\n",
      "struct    42581 non-null object\n",
      "addr      42581 non-null object\n",
      "lat       42581 non-null float64\n",
      "lon       42581 non-null float64\n",
      "dtypes: float64(2), object(3)\n",
      "memory usage: 1.9+ MB\n"
     ]
    }
   ],
   "source": [
    "df = pd.read_csv('Rus_schools_final.csv', encoding='cp1251', index_col=0)\n",
    "df.info()"
   ]
  },
  {
   "cell_type": "code",
   "execution_count": 3,
   "metadata": {},
   "outputs": [
    {
     "data": {
      "text/html": [
       "<div>\n",
       "<style scoped>\n",
       "    .dataframe tbody tr th:only-of-type {\n",
       "        vertical-align: middle;\n",
       "    }\n",
       "\n",
       "    .dataframe tbody tr th {\n",
       "        vertical-align: top;\n",
       "    }\n",
       "\n",
       "    .dataframe thead th {\n",
       "        text-align: right;\n",
       "    }\n",
       "</style>\n",
       "<table border=\"1\" class=\"dataframe\">\n",
       "  <thead>\n",
       "    <tr style=\"text-align: right;\">\n",
       "      <th></th>\n",
       "      <th>name</th>\n",
       "      <th>struct</th>\n",
       "      <th>addr</th>\n",
       "      <th>lat</th>\n",
       "      <th>lon</th>\n",
       "    </tr>\n",
       "  </thead>\n",
       "  <tbody>\n",
       "    <tr>\n",
       "      <th>0</th>\n",
       "      <td>Муниципальное общеобразовательное учреждение \"...</td>\n",
       "      <td>(Муниципальное образовательное учреждение)</td>\n",
       "      <td>420087, Республика Татарстан, г. Казань, ул.Ри...</td>\n",
       "      <td>55.76370</td>\n",
       "      <td>49.18172</td>\n",
       "    </tr>\n",
       "    <tr>\n",
       "      <th>1</th>\n",
       "      <td>Муниципальная образовательная школа-интернат \"...</td>\n",
       "      <td>(Муниципальное образовательное учреждение)</td>\n",
       "      <td>420103, Республика Татарстан, г. Казань, ул.Че...</td>\n",
       "      <td>55.82440</td>\n",
       "      <td>49.12312</td>\n",
       "    </tr>\n",
       "    <tr>\n",
       "      <th>2</th>\n",
       "      <td>Муниципальное учреждение образования для детей...</td>\n",
       "      <td>(Муниципальное образовательное учреждение)</td>\n",
       "      <td>420100, Республика Татарстан, г. Казань, ул. Ю...</td>\n",
       "      <td>55.74462</td>\n",
       "      <td>49.20560</td>\n",
       "    </tr>\n",
       "  </tbody>\n",
       "</table>\n",
       "</div>"
      ],
      "text/plain": [
       "                                                name  \\\n",
       "0  Муниципальное общеобразовательное учреждение \"...   \n",
       "1  Муниципальная образовательная школа-интернат \"...   \n",
       "2  Муниципальное учреждение образования для детей...   \n",
       "\n",
       "                                       struct  \\\n",
       "0  (Муниципальное образовательное учреждение)   \n",
       "1  (Муниципальное образовательное учреждение)   \n",
       "2  (Муниципальное образовательное учреждение)   \n",
       "\n",
       "                                                addr       lat       lon  \n",
       "0  420087, Республика Татарстан, г. Казань, ул.Ри...  55.76370  49.18172  \n",
       "1  420103, Республика Татарстан, г. Казань, ул.Че...  55.82440  49.12312  \n",
       "2  420100, Республика Татарстан, г. Казань, ул. Ю...  55.74462  49.20560  "
      ]
     },
     "execution_count": 3,
     "metadata": {},
     "output_type": "execute_result"
    }
   ],
   "source": [
    "df.head(3)"
   ]
  },
  {
   "cell_type": "markdown",
   "metadata": {},
   "source": [
    "# Выделим школы моего города"
   ]
  },
  {
   "cell_type": "code",
   "execution_count": 4,
   "metadata": {},
   "outputs": [],
   "source": [
    "mask = df['addr'].map(lambda x: True if 'Вязьма' in x else False)"
   ]
  },
  {
   "cell_type": "code",
   "execution_count": 5,
   "metadata": {},
   "outputs": [
    {
     "data": {
      "text/html": [
       "<div>\n",
       "<style scoped>\n",
       "    .dataframe tbody tr th:only-of-type {\n",
       "        vertical-align: middle;\n",
       "    }\n",
       "\n",
       "    .dataframe tbody tr th {\n",
       "        vertical-align: top;\n",
       "    }\n",
       "\n",
       "    .dataframe thead th {\n",
       "        text-align: right;\n",
       "    }\n",
       "</style>\n",
       "<table border=\"1\" class=\"dataframe\">\n",
       "  <thead>\n",
       "    <tr style=\"text-align: right;\">\n",
       "      <th></th>\n",
       "      <th>name</th>\n",
       "      <th>struct</th>\n",
       "      <th>addr</th>\n",
       "      <th>lat</th>\n",
       "      <th>lon</th>\n",
       "    </tr>\n",
       "  </thead>\n",
       "  <tbody>\n",
       "    <tr>\n",
       "      <th>29530</th>\n",
       "      <td>Муниципальное общеобразовательное учреждение В...</td>\n",
       "      <td>(Муниципальное образовательное учреждение)</td>\n",
       "      <td>215107, Смоленская область, Вяземский район, с...</td>\n",
       "      <td>55.225850</td>\n",
       "      <td>34.329520</td>\n",
       "    </tr>\n",
       "    <tr>\n",
       "      <th>29551</th>\n",
       "      <td>Муниципальное общеобразовательное учреждение с...</td>\n",
       "      <td>(Муниципальное образовательное учреждение)</td>\n",
       "      <td>215119, Смоленская область, г. Вязьма, ул. Лен...</td>\n",
       "      <td>55.222629</td>\n",
       "      <td>34.315423</td>\n",
       "    </tr>\n",
       "    <tr>\n",
       "      <th>29558</th>\n",
       "      <td>Муниципальное общеобразовательное учреждение с...</td>\n",
       "      <td>(Муниципальное образовательное учреждение)</td>\n",
       "      <td>215119, Смоленская область, г. Вязьма, ул. Пол...</td>\n",
       "      <td>55.209940</td>\n",
       "      <td>34.317720</td>\n",
       "    </tr>\n",
       "    <tr>\n",
       "      <th>29581</th>\n",
       "      <td>Муниципальное общеобразовательное учреждение с...</td>\n",
       "      <td>(Муниципальное образовательное учреждение)</td>\n",
       "      <td>215100, Смоленская область, г. Вязьма, ул. Пло...</td>\n",
       "      <td>55.206680</td>\n",
       "      <td>34.315120</td>\n",
       "    </tr>\n",
       "    <tr>\n",
       "      <th>29618</th>\n",
       "      <td>Муниципальное общеобразовательное учреждение с...</td>\n",
       "      <td>(Муниципальное образовательное учреждение)</td>\n",
       "      <td>215100, Смоленская область, г. Вязьма, ул. Лен...</td>\n",
       "      <td>55.211725</td>\n",
       "      <td>34.289715</td>\n",
       "    </tr>\n",
       "    <tr>\n",
       "      <th>29619</th>\n",
       "      <td>Муниципальное общеобразовательное учреждение с...</td>\n",
       "      <td>(Муниципальное образовательное учреждение)</td>\n",
       "      <td>215110, Смоленская область, г. Вязьма, пер. За...</td>\n",
       "      <td>55.203598</td>\n",
       "      <td>34.293873</td>\n",
       "    </tr>\n",
       "    <tr>\n",
       "      <th>29620</th>\n",
       "      <td>Муниципальное общеобразовательное учреждение с...</td>\n",
       "      <td>(Муниципальное образовательное учреждение)</td>\n",
       "      <td>215116, Смоленская область, г. Вязьма, ул. Док...</td>\n",
       "      <td>55.206370</td>\n",
       "      <td>34.280560</td>\n",
       "    </tr>\n",
       "  </tbody>\n",
       "</table>\n",
       "</div>"
      ],
      "text/plain": [
       "                                                    name  \\\n",
       "29530  Муниципальное общеобразовательное учреждение В...   \n",
       "29551  Муниципальное общеобразовательное учреждение с...   \n",
       "29558  Муниципальное общеобразовательное учреждение с...   \n",
       "29581  Муниципальное общеобразовательное учреждение с...   \n",
       "29618  Муниципальное общеобразовательное учреждение с...   \n",
       "29619  Муниципальное общеобразовательное учреждение с...   \n",
       "29620  Муниципальное общеобразовательное учреждение с...   \n",
       "\n",
       "                                           struct  \\\n",
       "29530  (Муниципальное образовательное учреждение)   \n",
       "29551  (Муниципальное образовательное учреждение)   \n",
       "29558  (Муниципальное образовательное учреждение)   \n",
       "29581  (Муниципальное образовательное учреждение)   \n",
       "29618  (Муниципальное образовательное учреждение)   \n",
       "29619  (Муниципальное образовательное учреждение)   \n",
       "29620  (Муниципальное образовательное учреждение)   \n",
       "\n",
       "                                                    addr        lat        lon  \n",
       "29530  215107, Смоленская область, Вяземский район, с...  55.225850  34.329520  \n",
       "29551  215119, Смоленская область, г. Вязьма, ул. Лен...  55.222629  34.315423  \n",
       "29558  215119, Смоленская область, г. Вязьма, ул. Пол...  55.209940  34.317720  \n",
       "29581  215100, Смоленская область, г. Вязьма, ул. Пло...  55.206680  34.315120  \n",
       "29618  215100, Смоленская область, г. Вязьма, ул. Лен...  55.211725  34.289715  \n",
       "29619  215110, Смоленская область, г. Вязьма, пер. За...  55.203598  34.293873  \n",
       "29620  215116, Смоленская область, г. Вязьма, ул. Док...  55.206370  34.280560  "
      ]
     },
     "execution_count": 5,
     "metadata": {},
     "output_type": "execute_result"
    }
   ],
   "source": [
    "vyazma_schools = df[mask]\n",
    "vyazma_schools.head(7)"
   ]
  },
  {
   "cell_type": "markdown",
   "metadata": {},
   "source": [
    "# Отрисовываем карту"
   ]
  },
  {
   "cell_type": "code",
   "execution_count": 6,
   "metadata": {},
   "outputs": [],
   "source": [
    "center = {'lat': 55.205944, 'lon': 34.298037} #центр города"
   ]
  },
  {
   "cell_type": "code",
   "execution_count": 7,
   "metadata": {},
   "outputs": [],
   "source": [
    "my_map = folium.Map(\n",
    "    location = (center['lat'], center['lon']),\n",
    "    tiles = 'Stamen Toner',\n",
    "    zoom_start = 14\n",
    ")"
   ]
  },
  {
   "cell_type": "code",
   "execution_count": 8,
   "metadata": {},
   "outputs": [],
   "source": [
    "for ind, row in vyazma_schools.iterrows():\n",
    "    if (ind == 29619): #позиция моей школы\n",
    "        color = 'crimson'\n",
    "    else:\n",
    "        color = '#3186cc'\n",
    "    folium.CircleMarker(location = [row['lat'], row['lon']],\n",
    "                        radius = 8,\n",
    "                        popup = row['name'],\n",
    "                        color = color,\n",
    "                        fill = True,\n",
    "                        fill_color = color,\n",
    "                        fill_opacity=0.5\n",
    "                       ).add_to(my_map)"
   ]
  },
  {
   "cell_type": "code",
   "execution_count": 9,
   "metadata": {},
   "outputs": [
    {
     "data": {
      "text/html": [
       "<div style=\"width:100%;\"><div style=\"position:relative;width:100%;height:0;padding-bottom:60%;\"><iframe src=\"data:text/html;charset=utf-8;base64,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\" style=\"position:absolute;width:100%;height:100%;left:0;top:0;border:none !important;\" allowfullscreen webkitallowfullscreen mozallowfullscreen></iframe></div></div>"
      ],
      "text/plain": [
       "<folium.folium.Map at 0x7f1e09cb2a90>"
      ]
     },
     "execution_count": 9,
     "metadata": {},
     "output_type": "execute_result"
    }
   ],
   "source": [
    "my_map"
   ]
  }
 ],
 "metadata": {
  "kernelspec": {
   "display_name": "Python 3",
   "language": "python",
   "name": "python3"
  },
  "language_info": {
   "codemirror_mode": {
    "name": "ipython",
    "version": 3
   },
   "file_extension": ".py",
   "mimetype": "text/x-python",
   "name": "python",
   "nbconvert_exporter": "python",
   "pygments_lexer": "ipython3",
   "version": "3.6.8"
  }
 },
 "nbformat": 4,
 "nbformat_minor": 2
}
